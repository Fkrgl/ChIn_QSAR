{
 "cells": [
  {
   "cell_type": "code",
   "execution_count": 80,
   "id": "6a5ac3d8",
   "metadata": {},
   "outputs": [],
   "source": [
    "from matplotlib import pyplot as plt\n",
    "import pandas as pd\n",
    "import seaborn as sns\n",
    "import numpy as np"
   ]
  },
  {
   "cell_type": "code",
   "execution_count": 103,
   "id": "0e058b56",
   "metadata": {},
   "outputs": [],
   "source": [
    "# load test data set\n",
    "test_data = pd.read_csv('test_pred.csv')\n",
    "\n",
    "test_data = test_data.iloc[:,1:]\n",
    "y = test_data['y']\n",
    "y_pred = test_data['y_pred']\n",
    "test_data = test_data.drop(['y', 'y_pred'], axis=1)"
   ]
  },
  {
   "cell_type": "code",
   "execution_count": 46,
   "id": "db865da2",
   "metadata": {},
   "outputs": [],
   "source": [
    "def get_residuals(y, y_pred):\n",
    "    return y - y_pred"
   ]
  },
  {
   "cell_type": "code",
   "execution_count": null,
   "id": "5a3b4e1f",
   "metadata": {},
   "outputs": [],
   "source": [
    "resid = get_residuals(y, y_pred)"
   ]
  },
  {
   "cell_type": "code",
   "execution_count": 85,
   "id": "66b8c262",
   "metadata": {},
   "outputs": [
    {
     "data": {
      "image/png": "[encoded data removed]",
      "text/plain": [
       "<Figure size 1080x432 with 2 Axes>"
      ]
     },
     "metadata": {
      "needs_background": "light"
     },
     "output_type": "display_data"
    }
   ],
   "source": [
    "# plot resisduals\n",
    "fig = plt.figure(figsize=(15,6))\n",
    "plt.subplot(121)\n",
    "plt.plot(y_pred, resid, 'b.')\n",
    "plt.hlines(0,0,9, linestyle='dashed', color='black');\n",
    "plt.xlabel('prediction')\n",
    "plt.ylabel('residual');\n",
    "plt.subplot(122)\n",
    "plt.hist(resid, bins=30, edgecolor='black');\n",
    "plt.xlabel('residual')\n",
    "plt.ylabel('frequency');\n",
    "plt.savefig('fig/residuals.png')"
   ]
  },
  {
   "cell_type": "code",
   "execution_count": 102,
   "id": "5a5e30bb",
   "metadata": {},
   "outputs": [
    {
     "data": {
      "image/png": "[encoded data removed]",
      "text/plain": [
       "<Figure size 720x432 with 1 Axes>"
      ]
     },
     "metadata": {
      "needs_background": "light"
     },
     "output_type": "display_data"
    }
   ],
   "source": [
    "fig = plt.figure(figsize=(10,6))\n",
    "plt.hist(y, bins=25, color='red', alpha=0.3, label='y');\n",
    "plt.hist(y_pred, bins=25, alpha=0.3, label=r'$\\hat{y}$');\n",
    "plt.xlabel(r'pLC$_{50}$')\n",
    "plt.ylabel('frequency')\n",
    "plt.legend();\n",
    "plt.savefig('fig/y_yHat_comparison.png')"
   ]
  },
  {
   "cell_type": "code",
   "execution_count": 59,
   "id": "55560415",
   "metadata": {},
   "outputs": [
    {
     "data": {
      "text/plain": [
       "73   -1.803345\n",
       "77   -2.562786\n",
       "dtype: float64"
      ]
     },
     "execution_count": 59,
     "metadata": {},
     "output_type": "execute_result"
    }
   ],
   "source": [
    "resid[resid<-1.5]"
   ]
  },
  {
   "cell_type": "code",
   "execution_count": 63,
   "id": "5007e340",
   "metadata": {},
   "outputs": [
    {
     "data": {
      "text/plain": [
       "73    7.287\n",
       "77    5.788\n",
       "Name: y, dtype: float64"
      ]
     },
     "execution_count": 63,
     "metadata": {},
     "output_type": "execute_result"
    }
   ],
   "source": [
    "y[resid<-1.5]"
   ]
  },
  {
   "cell_type": "code",
   "execution_count": 71,
   "id": "1811a478",
   "metadata": {},
   "outputs": [
    {
     "data": {
      "text/plain": [
       "7     6.087\n",
       "31    6.161\n",
       "33    4.370\n",
       "Name: y, dtype: float64"
      ]
     },
     "execution_count": 71,
     "metadata": {},
     "output_type": "execute_result"
    }
   ],
   "source": [
    "y[resid>2]"
   ]
  },
  {
   "cell_type": "code",
   "execution_count": 77,
   "id": "53b08b2e",
   "metadata": {},
   "outputs": [
    {
     "data": {
      "text/html": [
       "<div>\n",
       "<style scoped>\n",
       "    .dataframe tbody tr th:only-of-type {\n",
       "        vertical-align: middle;\n",
       "    }\n",
       "\n",
       "    .dataframe tbody tr th {\n",
       "        vertical-align: top;\n",
       "    }\n",
       "\n",
       "    .dataframe thead th {\n",
       "        text-align: right;\n",
       "    }\n",
       "</style>\n",
       "<table border=\"1\" class=\"dataframe\">\n",
       "  <thead>\n",
       "    <tr style=\"text-align: right;\">\n",
       "      <th></th>\n",
       "      <th>MaxEStateIndex</th>\n",
       "      <th>MinEStateIndex</th>\n",
       "      <th>MaxAbsEStateIndex</th>\n",
       "      <th>MinAbsEStateIndex</th>\n",
       "      <th>qed</th>\n",
       "      <th>MolWt</th>\n",
       "      <th>HeavyAtomMolWt</th>\n",
       "      <th>ExactMolWt</th>\n",
       "      <th>NumValenceElectrons</th>\n",
       "      <th>MaxPartialCharge</th>\n",
       "      <th>...</th>\n",
       "      <th>fr_alkyl_halide</th>\n",
       "      <th>fr_allylic_oxid</th>\n",
       "      <th>fr_amide</th>\n",
       "      <th>fr_aryl_methyl</th>\n",
       "      <th>fr_benzene</th>\n",
       "      <th>fr_bicyclic</th>\n",
       "      <th>fr_ether</th>\n",
       "      <th>fr_halogen</th>\n",
       "      <th>fr_unbrch_alkane</th>\n",
       "      <th>y</th>\n",
       "    </tr>\n",
       "  </thead>\n",
       "  <tbody>\n",
       "    <tr>\n",
       "      <th>119</th>\n",
       "      <td>1.243703</td>\n",
       "      <td>-2.633307</td>\n",
       "      <td>1.243703</td>\n",
       "      <td>-0.760717</td>\n",
       "      <td>-0.723581</td>\n",
       "      <td>2.54325</td>\n",
       "      <td>2.46258</td>\n",
       "      <td>2.555405</td>\n",
       "      <td>2.500046</td>\n",
       "      <td>1.504629</td>\n",
       "      <td>...</td>\n",
       "      <td>-0.282386</td>\n",
       "      <td>-0.155598</td>\n",
       "      <td>-0.213446</td>\n",
       "      <td>-0.338185</td>\n",
       "      <td>-0.906821</td>\n",
       "      <td>-0.119098</td>\n",
       "      <td>2.731713</td>\n",
       "      <td>-0.508876</td>\n",
       "      <td>-0.339894</td>\n",
       "      <td>4.37</td>\n",
       "    </tr>\n",
       "  </tbody>\n",
       "</table>\n",
       "<p>1 rows × 127 columns</p>\n",
       "</div>"
      ],
      "text/plain": [
       "     MaxEStateIndex  MinEStateIndex  MaxAbsEStateIndex  MinAbsEStateIndex  \\\n",
       "119        1.243703       -2.633307           1.243703          -0.760717   \n",
       "\n",
       "          qed    MolWt  HeavyAtomMolWt  ExactMolWt  NumValenceElectrons  \\\n",
       "119 -0.723581  2.54325         2.46258    2.555405             2.500046   \n",
       "\n",
       "     MaxPartialCharge  ...  fr_alkyl_halide  fr_allylic_oxid  fr_amide  \\\n",
       "119          1.504629  ...        -0.282386        -0.155598 -0.213446   \n",
       "\n",
       "     fr_aryl_methyl  fr_benzene  fr_bicyclic  fr_ether  fr_halogen  \\\n",
       "119       -0.338185   -0.906821    -0.119098  2.731713   -0.508876   \n",
       "\n",
       "     fr_unbrch_alkane     y  \n",
       "119         -0.339894  4.37  \n",
       "\n",
       "[1 rows x 127 columns]"
      ]
     },
     "execution_count": 77,
     "metadata": {},
     "output_type": "execute_result"
    }
   ],
   "source": [
    "data[data.y == 4.370]"
   ]
  },
  {
   "cell_type": "code",
   "execution_count": null,
   "id": "0ece8939",
   "metadata": {},
   "outputs": [],
   "source": []
  },
  {
   "cell_type": "code",
   "execution_count": 78,
   "id": "af68b490",
   "metadata": {},
   "outputs": [],
   "source": [
    "predicted_to_much = [16, 110]\n",
    "predicted_to_less = [227, 177, 119]"
   ]
  },
  {
   "cell_type": "code",
   "execution_count": null,
   "id": "c031af8d",
   "metadata": {},
   "outputs": [],
   "source": []
  }
 ],
 "metadata": {
  "kernelspec": {
   "display_name": "Python 3 (ipykernel)",
   "language": "python",
   "name": "python3"
  },
  "language_info": {
   "codemirror_mode": {
    "name": "ipython",
    "version": 3
   },
   "file_extension": ".py",
   "mimetype": "text/x-python",
   "name": "python",
   "nbconvert_exporter": "python",
   "pygments_lexer": "ipython3",
   "version": "3.8.5"
  }
 },
 "nbformat": 4,
 "nbformat_minor": 5
}
